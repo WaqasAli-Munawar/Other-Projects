{
 "cells": [
  {
   "cell_type": "markdown",
   "metadata": {},
   "source": [
    "Language detection comes into use when we are working on a very large dataset that contains data in different languages. Suppose we want to create an even driven program where the final output depends on the language which the user provides as an input. So it is important to first detect the language of the text provided by the user before taking any action."
   ]
  },
  {
   "cell_type": "markdown",
   "metadata": {},
   "source": [
    "As an open-source programming language, Python provides libraries and packages for almost every possible task, as the Python programming community continues to contribute to Python with new libraries, packages, and modules. We can build our machine learning model for the language detection, but for this file, we will be using the langdetect package in Python which can detect over 55 different languages within a few lines of code."
   ]
  },
  {
   "cell_type": "code",
   "execution_count": 3,
   "metadata": {},
   "outputs": [],
   "source": [
    "# !pip install langdetect"
   ]
  },
  {
   "cell_type": "code",
   "execution_count": 1,
   "metadata": {},
   "outputs": [
    {
     "name": "stdout",
     "output_type": "stream",
     "text": [
      "Enter any text in any language: Salut, je suis Waqas, j'espère que vous allez très bien.\n"
     ]
    }
   ],
   "source": [
    "from langdetect import detect\n",
    "text = input(\"Enter any text in any language: \")\n"
   ]
  },
  {
   "cell_type": "code",
   "execution_count": 2,
   "metadata": {},
   "outputs": [
    {
     "data": {
      "text/plain": [
       "'fr'"
      ]
     },
     "execution_count": 2,
     "metadata": {},
     "output_type": "execute_result"
    }
   ],
   "source": [
    "detect(text)"
   ]
  },
  {
   "cell_type": "markdown",
   "metadata": {},
   "source": [
    "In the above code, we started by importing the detect method from the langdetect package. Then, we simply asking for user input where the user can enter text in any language. Then We print the language of the text entered by the user by detecting it using the detect method."
   ]
  },
  {
   "cell_type": "markdown",
   "metadata": {},
   "source": [
    "The output received is an abbreviated form of the language (fr means French). So the user can enter text in whatever language the user likes, our program will detect that language but it will give the short form of that language as output."
   ]
  },
  {
   "cell_type": "code",
   "execution_count": null,
   "metadata": {},
   "outputs": [],
   "source": []
  }
 ],
 "metadata": {
  "kernelspec": {
   "display_name": "Python 3",
   "language": "python",
   "name": "python3"
  },
  "language_info": {
   "codemirror_mode": {
    "name": "ipython",
    "version": 3
   },
   "file_extension": ".py",
   "mimetype": "text/x-python",
   "name": "python",
   "nbconvert_exporter": "python",
   "pygments_lexer": "ipython3",
   "version": "3.7.6"
  }
 },
 "nbformat": 4,
 "nbformat_minor": 4
}
